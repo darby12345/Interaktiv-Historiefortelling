{
  "cells": [
    {
      "cell_type": "code",
      "execution_count": null,
      "metadata": {
        "id": "1rRo8oNqZ-Rj"
      },
      "outputs": [],
      "source": [
        "import pandas as pd\n",
        "import numpy as np\n",
        "import matplotlib.pyplot as plt\n",
        "from sklearn.model_selection import train_test_split\n",
        "from sklearn.linear_model import LinearRegression\n",
        "from sklearn.metrics import mean_absolute_error\n",
        "from sklearn.preprocessing import LabelEncoder\n"
      ]
    },
    {
      "cell_type": "code",
      "execution_count": null,
      "metadata": {
        "id": "CiX2FI4gZtTt"
      },
      "outputs": [],
      "source": [
        "# Load the dataset\n",
        "url = \"https://raw.githubusercontent.com/path/to/your/dataset.csv\"  # Replace with the correct URL\n",
        "data = pd.read_csv(url)\n",
        "\n",
        "# Display the first few rows of the dataset\n",
        "data.head()\n"
      ]
    },
    {
      "cell_type": "code",
      "execution_count": null,
      "metadata": {
        "id": "LcopvQh3X-kX"
      },
      "outputs": [],
      "source": [
        "# Convert categorical columns to numerical values\n",
        "label_encoder = LabelEncoder()\n",
        "data['sex'] = label_encoder.fit_transform(data['sex'])  # Example for categorical variable\n",
        "\n",
        "# Check for any other categorical columns and encode them similarly\n",
        "# data['region'] = label_encoder.fit_transform(data['region'])  # Uncomment if applicable\n",
        "\n",
        "# Split the data into train and test datasets\n",
        "train_dataset, test_dataset = train_test_split(data, test_size=0.2, random_state=42)\n",
        "\n",
        "# Separate features and labels\n",
        "train_labels = train_dataset.pop('expenses')\n",
        "test_labels = test_dataset.pop('expenses')\n",
        "\n",
        "# Display the shapes of the datasets\n",
        "print(f\"Train Dataset Shape: {train_dataset.shape}\")\n",
        "print(f\"Test Dataset Shape: {test_dataset.shape}\")\n"
      ]
    },
    {
      "cell_type": "code",
      "execution_count": null,
      "metadata": {
        "id": "Xe7RXH3N3CWU"
      },
      "outputs": [],
      "source": [
        "# Create a linear regression model\n",
        "model = LinearRegression()\n",
        "\n",
        "# Train the model using the training dataset\n",
        "model.fit(train_dataset, train_labels)\n"
      ]
    },
    {
      "cell_type": "code",
      "source": [
        "# Predict the expenses using the test dataset\n",
        "predictions = model.predict(test_dataset)\n",
        "\n",
        "# Calculate Mean Absolute Error\n",
        "mae = mean_absolute_error(test_labels, predictions)\n",
        "print(f\"Mean Absolute Error: {mae}\")\n",
        "\n",
        "# Check if the model meets the challenge criteria\n",
        "if mae < 3500:\n",
        "    print(\"Model passed the challenge!\")\n",
        "else:\n",
        "    print(\"Model did not pass the challenge.\")\n"
      ],
      "metadata": {
        "id": "3aWcgi7gUEdU"
      },
      "execution_count": null,
      "outputs": []
    },
    {
      "cell_type": "code",
      "source": [
        "# Plot the true expenses vs predicted expenses\n",
        "plt.figure(figsize=(10, 6))\n",
        "plt.scatter(test_labels, predictions)\n",
        "plt.xlabel('True Expenses')\n",
        "plt.ylabel('Predicted Expenses')\n",
        "plt.title('True vs Predicted Expenses')\n",
        "plt.plot([min(test_labels), max(test_labels)], [min(test_labels), max(test_labels)], color='red', linestyle='--')\n",
        "plt.show()\n"
      ],
      "metadata": {
        "id": "8hmdcEVNUHgO"
      },
      "execution_count": null,
      "outputs": []
    }
  ],
  "metadata": {
    "colab": {
      "name": "fcc_predict_health_costs_with_regression.ipynb",
      "private_outputs": true,
      "provenance": [],
      "toc_visible": true
    },
    "kernelspec": {
      "display_name": "Python 3",
      "name": "python3"
    }
  },
  "nbformat": 4,
  "nbformat_minor": 0
}