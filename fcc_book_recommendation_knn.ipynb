{
  "cells": [
    {
      "cell_type": "code",
      "execution_count": null,
      "metadata": {
        "id": "Y1onB6kUvo4Z"
      },
      "outputs": [],
      "source": [
        "import pandas as pd\n",
        "from sklearn.neighbors import NearestNeighbors\n"
      ]
    },
    {
      "cell_type": "code",
      "execution_count": null,
      "metadata": {
        "id": "iAQGqqO_vo4d"
      },
      "outputs": [],
      "source": [
        "# Load the datasets\n",
        "books = pd.read_csv('BX-Books.csv', sep=';', encoding='latin-1', usecols=[0, 1, 2], names=['ISBN', 'Title', 'Author'], skiprows=1)\n",
        "ratings = pd.read_csv('BX-Ratings.csv', sep=';', encoding='latin-1', usecols=[0, 1, 2], names=['UserID', 'ISBN', 'Rating'], skiprows=1)\n",
        "\n",
        "# Display the first few rows of the books and ratings data\n",
        "print(books.head())\n",
        "print(ratings.head())\n"
      ]
    },
    {
      "cell_type": "code",
      "execution_count": null,
      "metadata": {
        "id": "NClILWOiEd6Q"
      },
      "outputs": [],
      "source": [
        "# Count ratings for each user and each book\n",
        "user_counts = ratings['UserID'].value_counts()\n",
        "book_counts = ratings['ISBN'].value_counts()\n",
        "\n",
        "# Filter users with less than 200 ratings\n",
        "filtered_users = user_counts[user_counts >= 200].index\n",
        "# Filter books with less than 100 ratings\n",
        "filtered_books = book_counts[book_counts >= 100].index\n",
        "\n",
        "# Filter the ratings dataframe\n",
        "filtered_ratings = ratings[ratings['UserID'].isin(filtered_users) & ratings['ISBN'].isin(filtered_books)]\n",
        "\n",
        "# Create a pivot table for the ratings\n",
        "ratings_matrix = filtered_ratings.pivot(index='UserID', columns='ISBN', values='Rating').fillna(0)\n",
        "\n",
        "# Display the shape of the ratings matrix\n",
        "print(ratings_matrix.shape)\n"
      ]
    },
    {
      "cell_type": "code",
      "execution_count": null,
      "metadata": {
        "id": "xAcXjkCFCh0A"
      },
      "outputs": [],
      "source": [
        "# Fit the KNN model\n",
        "knn = NearestNeighbors(n_neighbors=6, metric='cosine')\n",
        "knn.fit(ratings_matrix.T)  # Transpose to have books as rows\n"
      ]
    },
    {
      "cell_type": "code",
      "execution_count": null,
      "metadata": {
        "id": "f5ZUd-L1SQz7"
      },
      "outputs": [],
      "source": [
        "def get_recommends(book_title):\n",
        "    # Find the index of the book\n",
        "    book_index = ratings_matrix.columns.get_loc(book_title)\n",
        "\n",
        "    # Get the distances and indices of the nearest neighbors\n",
        "    distances, indices = knn.kneighbors(ratings_matrix.T[book_index].values.reshape(1, -1))\n",
        "\n",
        "    # Prepare the list of recommendations\n",
        "    recommendations = []\n",
        "    for i in range(1, len(distances.flatten())):  # Start from 1 to skip the book itself\n",
        "        recommendations.append([ratings_matrix.columns[indices.flatten()[i]], distances.flatten()[i]])\n",
        "\n",
        "    return [book_title, recommendations]\n"
      ]
    },
    {
      "cell_type": "code",
      "execution_count": null,
      "metadata": {
        "id": "jd2SLCh8oxMh"
      },
      "outputs": [],
      "source": [
        "# Test the recommendation function\n",
        "result = get_recommends(\"The Queen of the Damned (Vampire Chronicles (Paperback))\")\n",
        "print(result)\n"
      ]
    }
  ],
  "metadata": {
    "colab": {
      "name": "fcc_book_recommendation_knn.ipynb",
      "provenance": []
    },
    "kernelspec": {
      "display_name": "Python 3",
      "language": "python",
      "name": "python3"
    },
    "language_info": {
      "codemirror_mode": {
        "name": "ipython",
        "version": 3
      },
      "file_extension": ".py",
      "mimetype": "text/x-python",
      "name": "python",
      "nbconvert_exporter": "python",
      "pygments_lexer": "ipython3",
      "version": "3.6.5"
    }
  },
  "nbformat": 4,
  "nbformat_minor": 0
}